{
 "cells": [
  {
   "cell_type": "code",
   "execution_count": 66,
   "id": "3bdc414c",
   "metadata": {},
   "outputs": [],
   "source": [
    "import glob2\n",
    "import json"
   ]
  },
  {
   "cell_type": "code",
   "execution_count": 67,
   "id": "8a7c5d31",
   "metadata": {},
   "outputs": [],
   "source": [
    "def findEndIndex(string):\n",
    "    count=0\n",
    "    for i in range(len(string)):\n",
    "        if ((string[i]=='{') or (string[i]=='(')):\n",
    "            count=count+1\n",
    "        if ((string[i]=='}') or (string[i]==')')):\n",
    "            count=count-1\n",
    "        if (count==0 and string[i]==\";\"):\n",
    "            return i\n",
    "    return None"
   ]
  },
  {
   "cell_type": "code",
   "execution_count": 68,
   "id": "4d9fed74",
   "metadata": {},
   "outputs": [],
   "source": [
    "def findNextParenthesis(string):\n",
    "    count=0\n",
    "    for i in range(len(string)):\n",
    "        if (string[i]=='('):\n",
    "            return i\n",
    "    return None  "
   ]
  },
  {
   "cell_type": "code",
   "execution_count": 69,
   "id": "c1f34b37",
   "metadata": {},
   "outputs": [],
   "source": [
    "def findEndIndexXML(string):\n",
    "    for i in range(len(string)):\n",
    "        if (string[i]==\">\"):\n",
    "            return i\n",
    "    return None"
   ]
  },
  {
   "cell_type": "code",
   "execution_count": 70,
   "id": "11938e1d",
   "metadata": {},
   "outputs": [],
   "source": [
    "def findEndIndexLine(string):\n",
    "    for i in range(len(string)):\n",
    "        if (string[i]==\"\\\"\"):\n",
    "            return i\n",
    "    return None"
   ]
  },
  {
   "cell_type": "code",
   "execution_count": 71,
   "id": "fe00677b",
   "metadata": {},
   "outputs": [],
   "source": [
    "# Récupération dans les opérateurs des préconditions\n",
    "\n",
    "ListFile=glob2.glob(r\".\\rapidminer-studio-modular-master\\rapidminer-studio-core\\src\\main\\java\\com\\rapidminer\\operator\\**/*.java\")\n",
    "\n",
    "def findPrecondition(ListFile):\n",
    "    count=0\n",
    "\n",
    "    for File in ListFile:\n",
    "        file1 = open(File, 'r')\n",
    "        body = file1.read()\n",
    "        startIndex=body.strip().find(\".addPrecondition\")\n",
    "        while (startIndex >= 0):\n",
    "            stringToEvaluate=body[startIndex:len(body)]\n",
    "            endIndex=findEndIndex(stringToEvaluate)\n",
    "\n",
    "            count=count+1\n",
    "            body=body[startIndex+endIndex:]\n",
    "            startIndex=body.strip().find(\".addPrecondition\")\n",
    "        file1.close()\n",
    "        \n"
   ]
  },
  {
   "cell_type": "code",
   "execution_count": 72,
   "id": "1684bd6d",
   "metadata": {},
   "outputs": [],
   "source": [
    "def preconditionDict(ListFile):\n",
    "    count=0\n",
    "    dictList = {}\n",
    "    for File in ListFile:\n",
    "        file1 = open(File, 'r')\n",
    "        body = file1.read()\n",
    "        startIndex=body.strip().find(\".addPrecondition\")\n",
    "        \n",
    "            \n",
    "        while (startIndex >= 0):\n",
    "            override= \"Not Overrode\"\n",
    "            stringToEvaluate=body[startIndex:len(body)]\n",
    "            startNamePrecondition = stringToEvaluate.strip().find(\"new \")\n",
    "            if startNamePrecondition<50:\n",
    "                startIndex+=startNamePrecondition+4\n",
    "                stringToEvaluate=body[startIndex:len(body)]\n",
    "                endIndex=findNextParenthesis(stringToEvaluate)\n",
    "            else:\n",
    "                endIndex = startIndex+51\n",
    "\n",
    "            if(endIndex-startIndex<50):\n",
    "                stringToEvaluate=body[startIndex-(startNamePrecondition+4):len(body)]\n",
    "                endPreconditionIndex=findEndIndex(stringToEvaluate)\n",
    "                if body[startIndex-(startNamePrecondition+4):startIndex+endPreconditionIndex].strip().find(\"@Override\")>0:\n",
    "                    override=\"Overrode\"\n",
    "                if File in dictList:\n",
    "                    dictList[File].append([body[startIndex:startIndex+endIndex],override])\n",
    "                else :\n",
    "                    dictList[File]=[[body[startIndex:startIndex+endIndex],override]]\n",
    "            count=count+1\n",
    "            if(endIndex != None):\n",
    "                body=body[startIndex+endIndex:]\n",
    "            else:\n",
    "                body=body[startIndex:]\n",
    "            startIndex=body.strip().find(\".addPrecondition\")\n",
    "        file1.close()\n"
   ]
  },
  {
   "cell_type": "code",
   "execution_count": 73,
   "id": "662b3b04",
   "metadata": {},
   "outputs": [],
   "source": [
    "preconditionDict(ListFile)"
   ]
  },
  {
   "cell_type": "code",
   "execution_count": 74,
   "id": "9a3f51a7",
   "metadata": {},
   "outputs": [],
   "source": [
    "def findOpInLine(string):\n",
    "    endIndex=findEndIndexLine(string)\n",
    "    print(string[:endIndex])"
   ]
  },
  {
   "cell_type": "code",
   "execution_count": 75,
   "id": "7dc0957d",
   "metadata": {},
   "outputs": [],
   "source": [
    "def findOpAndPort(string, string2):\n",
    "    startIndex = string.find(string2)+len(string2)+2\n",
    "    if (string.find(string2) >= 0):\n",
    "        endIndex = findEndIndexLine(string[startIndex:])\n",
    "        return string[startIndex:startIndex+endIndex]"
   ]
  },
  {
   "cell_type": "code",
   "execution_count": 76,
   "id": "d942ad26",
   "metadata": {},
   "outputs": [
    {
     "name": "stdout",
     "output_type": "stream",
     "text": [
      "Retrieve (2)\n",
      "ExampleSetGenerator (2)\n",
      "ExampleSetGenerator (3)\n",
      "ExampleFilter (2)\n",
      "Select Attributes (2)\n",
      "Select Attributes (2)\n",
      "IOMultiplier_1\n",
      "IOMultiplier_1\n",
      "IOMultiplier_1\n",
      "ExampleFilter (2)\n",
      "Select Attributes (2)\n",
      "Select Attributes (2)\n",
      "IOMultiplier_1\n",
      "IOMultiplier_1\n",
      "IOMultiplier_1\n",
      "Numerical2Polynominal (2)\n",
      "Numerical2Polynominal (2)\n",
      "ChangeAttributeName (2)\n",
      "ChangeAttributeName (2)\n",
      "IOStorer (2)\n",
      "GuessValueTypes (2)\n",
      "GuessValueTypes (2)\n",
      "Retrieve (2)\n",
      "ModelApplier (2)\n",
      "RegressionPerformance (2)\n",
      "IOMultiplier_1\n",
      "IOMultiplier_1\n",
      "Cross Validation (2)\n",
      "IOMultiplier_1\n",
      "Cross Validation (2)\n",
      "Retrieve (2)\n",
      "Training (2)\n"
     ]
    }
   ],
   "source": [
    "# Récupération dans les processus des connexions\n",
    "\n",
    "ListFile=glob2.glob(r\".\\rapidminer-studio-modular-master\\rapidminer-studio-core\\src\\main\\resources\\com\\rapidminer\\resources\\samples\\processes\\**/*.rmp\")\n",
    "#ListFile=glob2.glob(r\".\\projects_openML\\**/*.xml\")\n",
    "dictGraph = {}\n",
    "\n",
    "for File in ListFile:\n",
    "    file1 = open(File, 'r')\n",
    "    body = file1.read()\n",
    "    startIndex=body.strip().find(\"from_op\")\n",
    "        \n",
    "    #if (startIndex>=0):\n",
    "        #print(File)\n",
    "            \n",
    "    while (startIndex >= 0):\n",
    "        stringToEvaluate=body[startIndex:len(body)]\n",
    "        endIndex=findEndIndexXML(stringToEvaluate)\n",
    "        #print(body[startIndex:startIndex+endIndex-1]+\"\\n\\n\")\n",
    "        \n",
    "        from_op = findOpAndPort(body[startIndex:startIndex+endIndex-1], \"from_op\")\n",
    "        from_port = findOpAndPort(body[startIndex:startIndex+endIndex-1], \"from_port\")\n",
    "        to_op = findOpAndPort(body[startIndex:startIndex+endIndex-1], \"to_op\")\n",
    "        to_port = findOpAndPort(body[startIndex:startIndex+endIndex-1], \"to_port\")\n",
    "        \n",
    "        if (to_op != None ):\n",
    "            if (from_op.find(' (2)')>0):\n",
    "                print(from_op)\n",
    "                from_op=from_op[:from_op.find(\" (2)\")]\n",
    "                \n",
    "            if (to_op.find(\" (2)\")>0):\n",
    "                print(to_op)\n",
    "                to_op=to_op[:to_op.find(\" (2)\")]\n",
    "                \n",
    "            if (from_op.find(\" (3)\")>0):\n",
    "                print(from_op)\n",
    "                from_op=from_op[:from_op.find(\" (3)\")]\n",
    "            \n",
    "            if (to_op.find(\" (3)\")>0):\n",
    "                print(to_op)\n",
    "                to_op=to_op[:to_op.find(\" (3)\")]   \n",
    "                 \n",
    "            if (from_op.find(\"_1\")>0):\n",
    "                print(from_op)\n",
    "                from_op=from_op[:from_op.find(\"_1\")]\n",
    "                \n",
    "            if (to_op.find(\"_1\")>0):\n",
    "                print(to_op)\n",
    "                to_op=to_op[:to_op.find(\"_1)\")]\n",
    "                \n",
    "            if (from_op in dictGraph):\n",
    "                dictGraph[from_op].append(to_op)\n",
    "            else:\n",
    "                dictGraph[from_op] = [to_op]\n",
    "        body=body[startIndex+endIndex:]\n",
    "        startIndex=body.strip().find(\"from_op\")\n",
    "    file1.close()\n",
    "\n"
   ]
  },
  {
   "cell_type": "code",
   "execution_count": 77,
   "id": "89d78ccc",
   "metadata": {},
   "outputs": [
    {
     "name": "stdout",
     "output_type": "stream",
     "text": [
      "{'Retrieve': ['DecisionTree', 'LinearRegression', 'Neural Net', 'NearestNeighbors', 'NaiveBayes', 'JMySVMLearner', 'MyKLRLearner', 'FrequencyDiscretization', 'Bagging', 'MissingValueReplenishment', 'DecisionTree', 'Apply Model', 'Preprocessing', 'NoiseGenerator', 'Cross Validation', 'Tree2RuleConverter', 'Cross Validation', 'Nominal2Binominal', 'Normalize', 'IdTagging', 'Sampling', 'FrequencyDiscretization', 'MinimalEntropyPartitioning', 'ExampleFilter', 'Preprocessing', 'NoiseGenerator', 'RemoveCorrelatedFeatures', 'Generation', 'NominalFeatureIterator', 'IdTagging', 'MissingValueReplenishment', 'JMySVMLearner', 'Cross Validation', 'MissingValueReplenishment', 'Cross Validation', 'SimpleValidation', 'Validation', 'NaiveBayes', 'ModelApplier', 'Cross Validation', 'RemoveCorrelatedFeatures', 'RemoveUselessAttributes', 'Normalization', 'PCA', 'GHA', 'FastICA', 'PCA', 'Relief', 'FS', 'PCAWeighting', 'EvolutionaryWeighting', 'InitialWeights', 'YAGGA', 'AttributeConstructionsLoader', 'IdTagging', 'ParameterOptimization', 'ChiSquaredWeighting', 'ANOVAMatrix', 'ROCComparator', 'Aggregation', 'ParameterOptimization', 'Training', 'GridParameterOptimization', 'ParameterOptimization', 'KMeans', 'KMedoids', 'AgglomerativeClustering', 'Clustering', 'KMeans', 'KMeans', 'KMeans', 'ParameterIteration', 'TopDownClustering', 'Obfuscator'], 'FrequencyDiscretization': ['RuleLearner', 'Nominal2Binominal'], 'MissingValueReplenishment': ['AdaBoost', 'DecisionStump', 'Cross Validation'], 'DecisionTree': ['Apply Model'], 'Preprocessing': ['FPGrowth'], 'FPGrowth': ['AssociationRuleGenerator', 'AssociationRuleGenerator'], 'TrainingSetGenerator': ['NearestNeighbors', 'LibSVMLearner'], 'NearestNeighbors': ['TestApplyModel'], 'TestSetGenerator': ['TestApplyModel'], 'TestApplyModel': ['ThresholdFinder', 'Apply Model'], 'ThresholdFinder': ['Apply Threshold', 'ThresholdApplier', 'ThresholdApplier', 'ThresholdApplier', 'ThresholdApplier'], 'ApplySetGenerator': ['Apply Model'], 'Apply Model': ['Apply Threshold', 'Performance', 'Performance'], 'Apply Threshold': ['Performance'], 'ModelApplier': ['ThresholdFinder', 'Performance', 'ClassificationPerformance', 'ClassificationPerformance', 'RegressionPerformance', 'ClassificationPerformance', 'ClassificationPerformance', 'BinominalClassificationPerformance', 'Performance', 'Performance', 'WrapperEvaluation', 'RegressionPerformance', 'RegressionPerformance', 'Performance', 'RegressionPerformance', 'Performance', 'Performance', 'ClassificationPerformance', 'ThresholdFinder', 'RegressionPerformance', 'Performance', 'Performance', 'ClassificationPerformance', 'Performance', 'Performance', 'Performance', 'ClassificationPerformance', 'ThresholdApplier'], 'ThresholdApplier': ['Performance', 'Performance', 'Performance'], 'ExampleSetGenerator': ['Cross Validation', 'NoiseGenerator', 'NoiseGenerator', 'Cross Validation', 'Stacking', 'Vote', 'Normalization', 'StratifiedSampling', 'ExampleSetMerge', 'ExampleSetMerge', 'ExampleSetMerge', 'DistanceBasedOutlierDetection', 'DiscretizationOnSpecialAttributes', 'IdTagging', 'IdTagging', 'AttributeFilter', 'AttributeFilter', 'FeatureIterator', 'Cross Validation', 'Cross Validation', 'NoiseGenerator', 'IOMultiplier_', 'NoiseGenerator', 'ChiSquaredWeighting', 'Cross Validation', 'NoiseGenerator', 'JMySVMLearner', 'Cross Validation', 'SOMDimensionalityReduction', 'RandomOptimizer', 'NoiseGenerator', 'GridParameterOptimization', 'ParameterIteration', 'NoiseGenerator', 'RandomOptimizer', 'SupportVectorClustering', 'Normalization', 'Cross Validation', 'JMySVMLearner'], 'Test': ['Performance', 'Performance', 'Performance', 'Evaluation', 'Write Special', 'Performance', 'Performance', 'Evaluation', 'Evaluation', 'Performance', 'ClassificationPerformance'], 'NoiseGenerator': ['Cross Validation', 'Cross Validation', 'Cross Validation', 'WrapperXValidation', 'GeneticAlgorithm', 'GeneticAlgorithm', 'Normalization', 'MultipleLabelIterator', 'FeatureSubsetIteration'], 'Nominal2Binominal': ['AttributeFilter'], 'AttributeFilter': ['FPGrowth', 'AttributeSubsetPreprocessing', 'AttributeSubsetPreprocessing'], 'Normalization': ['PolynomialRegression', 'PrincipalComponents', 'LearningCurve', 'DBScanClustering'], 'PolynomialRegression': ['Apply Model', 'Apply Model'], 'RepositorySource': ['MergeValues', 'RemoveUselessAttributes', 'NormalizationOnTemperature', 'SplittingChain'], 'MergeValues': ['Select Attributes'], 'Select Attributes': ['ExampleFilter', 'ExampleSetJoin', 'AttributeConstruction', 'KMeans', 'AttributeConstruction', 'KMeans', 'IOStorer'], 'NominalFeatureIterator': ['NumericalFeatureIterator'], 'NumericalFeatureIterator': ['Decision Tree'], 'FirstExampleSetGenerator': ['FirstIdTagging'], 'FirstIdTagging': ['ExampleSetJoin'], 'SecondExampleSetGenerator': ['SecondIdTagging'], 'SecondIdTagging': ['Select Attributes'], 'DistanceBasedOutlierDetection': ['ExampleFilter'], 'NormalizationOnTemperature': ['DiscretizationOnHumidity'], 'IOMultiplier': ['FirstFilter', 'SecondFilter', 'Outliers', 'NonOutliers', 'Outliers', 'NonOutliers', 'Cross Validation', 'Cross Validation'], 'ExampleFilter': ['Select Attributes', 'Select Attributes', 'Select Attributes', 'Select Attributes', 'Aggregation', 'DataMacroDefinition', 'Loop Values'], 'AttributeConstruction': ['AttributeSubsetPreprocessing', 'AttributeSubsetPreprocessing', 'Loop Values'], 'AttributeSubsetPreprocessing': ['Mapping', 'Mapping', 'Sorting', 'ChangeAttributeName'], 'Mapping': ['ChangeAttributeRole', 'ChangeAttributeRole'], 'IdTagging': ['LOFOutlierDetection', 'LOFOutlierDetection', 'IdToRegular'], 'LOFOutlierDetection': ['IOMultiplier_', 'IOMultiplier_'], 'Outliers': ['ExampleSetMerge', 'ExampleSetMerge'], 'NonOutliers': ['ExampleSetMerge', 'ExampleSetMerge'], 'IdToRegular': ['Numerical2Polynominal'], 'Numerical2Polynominal': ['Aggregate'], 'Aggregate': ['Set Role'], 'Set Role': ['FP-Growth'], 'Aggregation': ['DataMacroDefinition', 'AttributeConstruction', 'DataMacroDefinition', 'AttributeConstruction'], 'Generate Data': ['Loop Values', 'KernelKMeans'], 'Loop Values': ['ExampleSetMerge', 'ExampleSetMerge'], 'SetData': ['MacroConstruction'], 'DataMacroDefinition': ['SingleMacroDefinition', 'MacroConstruction'], 'SingleMacroDefinition': ['IteratingOperatorChain', 'ValueIterator'], 'ChangeAttributeName': ['ChangeAttributeName', 'AttributeConstruction'], 'ExampleSetMerge': ['Pivot'], 'NominalExampleSetGenerator': ['Sample'], 'Sample': ['GuessValueTypes'], 'ValueIterator': ['Macro2Log'], 'Macro2Log': ['ProcessLog'], 'IORetriever': ['Select Attributes'], 'OperatorChain': ['FeatureIterator'], 'FeatureIterator': ['ProcessLog2ExampleSet'], 'ProcessLog2ExampleSet': ['ClearProcessLog', 'ClearProcessLog'], 'ClearProcessLog': ['GuessValueTypes', 'IOStorer'], 'GuessValueTypes': ['ExampleFilter'], 'DecisionStump': ['ModelApplier', 'ModelApplier'], 'JMySVMLearner': ['ModelApplier', 'ModelApplier', 'PlattScaling', 'PlattScaling'], 'Write Special': ['RegressionPerformance'], 'NaiveBayes': ['ModelApplier'], 'FSModelApplier': ['FSEvaluation'], 'FSEvaluation': ['FSMinMaxWrapper'], 'Cross Validation': ['T-Test', 'T-Test', 'ProcessLog', 'ProcessLog', 'ProcessLog', 'Log', 'Log', 'ProcessLog', 'ProcessLog', 'ProcessLog '], 'T-Test': ['Anova', 'Anova'], 'LiftParetoChart': ['ModelApplier', 'ModelApplier', 'IOStorer', 'ModelApplier', 'ModelApplier', 'IOStorer'], 'DirectMailingExampleSetGenerator': ['SimpleValidation', 'SimpleValidation'], 'PCA': ['ModelApplier', 'ModelApplier', 'ComponentWeights', 'ComponentWeights'], 'GHA': ['ComponentWeights', 'ComponentWeights'], 'FastICA': ['ModelApplier', 'ModelApplier'], 'Relief': ['AttributeWeightSelection', 'AttributeWeightSelection'], 'Applier': ['Performance', 'RegressionPerformance'], 'PCAWeighting': ['WeightGuidedFeatureSelection', 'WeightGuidedFeatureSelection'], 'SimpleValidation': ['ProcessLog', 'ProcessLog'], 'Selection': ['Cross Validation'], 'InitialWeights': ['GridParameterOptimization', 'GridParameterOptimization'], 'YAGGA': ['AttributeConstructionsWriter', 'AttributeWeightsWriter'], 'AttributeConstructionsLoader': ['AttributeWeightSelection'], 'AttributeWeightsLoader': ['AttributeWeightSelection'], 'LibSVMLearner': ['ModelApplier'], 'GridSetGenerator': ['ModelApplier'], 'Performance': ['ProcessLog'], 'ParameterOptimization': ['ParameterSetter'], 'ApplierChain': ['ProcessLog'], 'MultipleLabelGenerator': ['NoiseGenerator'], 'MultipleLabelIterator': ['AverageBuilder'], 'OperatorEnabler': ['Cross Validation'], 'IteratingPerformanceAverage': ['Log'], 'MacroConstruction': ['DecisionTree'], 'KMeans': ['SVDReduction', 'ClusterCentroidEvaluator', 'ClusterCentroidEvaluator', 'ClusterModel2ExampleSet', 'ClusterModel2ExampleSet', 'ChangeAttributeRole', 'Evaluation', 'Evaluation', 'Evaluation', 'Evaluation'], 'ClusterCentroidEvaluator': ['ProcessLog', 'ProcessLog'], 'KMedoids': ['SVDReduction'], 'Clustering': ['SVDReduction'], 'ClusterModel2ExampleSet': ['Cross Validation'], 'ChangeAttributeRole': ['DecisionTree'], 'Evaluation': ['SVDReduction', 'ProcessLog', 'ProcessLog'], 'Obfuscator': ['DeObfuscator'], 'ThresholdCreator': ['ThresholdApplier'], 'PlattScaling': ['ModelApplier', 'ModelApplier']}\n"
     ]
    }
   ],
   "source": [
    "print(dictGraph)"
   ]
  },
  {
   "cell_type": "code",
   "execution_count": 78,
   "id": "5270501c",
   "metadata": {},
   "outputs": [],
   "source": [
    "with open('dictGraph.json', 'w') as convert_file:\n",
    "     convert_file.write(json.dumps(dictGraph))"
   ]
  }
 ],
 "metadata": {
  "kernelspec": {
   "display_name": "Python 3",
   "language": "python",
   "name": "python3"
  },
  "language_info": {
   "codemirror_mode": {
    "name": "ipython",
    "version": 3
   },
   "file_extension": ".py",
   "mimetype": "text/x-python",
   "name": "python",
   "nbconvert_exporter": "python",
   "pygments_lexer": "ipython3",
   "version": "3.10.2"
  }
 },
 "nbformat": 4,
 "nbformat_minor": 5
}
