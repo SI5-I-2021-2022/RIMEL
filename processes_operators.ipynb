{
 "cells": [
  {
   "cell_type": "code",
   "execution_count": 11,
   "id": "3bdc414c",
   "metadata": {},
   "outputs": [],
   "source": [
    "import glob2"
   ]
  },
  {
   "cell_type": "code",
   "execution_count": 12,
   "id": "c1f34b37",
   "metadata": {},
   "outputs": [],
   "source": [
    "# Find the end of a XML line\n",
    "# Example : <connect from_op=\"DecisionTree\" from_port=\"model\" to_port=\"result 1\"/> \n",
    "\n",
    "def findEndIndexXML(string):\n",
    "    for i in range(len(string)):\n",
    "        if (string[i]==\">\"):\n",
    "            return i\n",
    "    return None"
   ]
  },
  {
   "cell_type": "code",
   "execution_count": 13,
   "id": "11938e1d",
   "metadata": {},
   "outputs": [],
   "source": [
    "# Find the end of an operator / port name\n",
    "# Example : In the line <connect from_op=\"Retrieve\" from_port=\"output\" to_op=\"DecisionTree\" to_port=\"training set\"/>, we are\n",
    "# giving Retrieve\" / output\" / DecisionTree\" / training set\" and expecting the method to return us when we bump into \"\n",
    "\n",
    "def findEndIndexLine(string):\n",
    "    for i in range(len(string)):\n",
    "        if (string[i]==\"\\\"\"):\n",
    "            return i\n",
    "    return None"
   ]
  },
  {
   "cell_type": "code",
   "execution_count": 14,
   "id": "7dc0957d",
   "metadata": {},
   "outputs": [],
   "source": [
    "# Give the name of an operator / port\n",
    "# string is the line where we want to extract the operator or port, while string2 is the string that we're looking for in string\n",
    "# Example : In the line <connect from_op=\"Retrieve\" from_port=\"output\" to_op=\"DecisionTree\" to_port=\"training set\"/>, if we do\n",
    "# findOpAndPort(string, \"from_port\"), it will return output\n",
    "\n",
    "def findOpAndPort(string, string2):\n",
    "    startIndex = string.find(string2)+len(string2)+2 # We do +2 to avoid \"=\"\"\n",
    "    if (string.find(string2) >= 0):\n",
    "        endIndex = findEndIndexLine(string[startIndex:])\n",
    "        return string[startIndex:startIndex+endIndex]"
   ]
  },
  {
   "cell_type": "code",
   "execution_count": null,
   "id": "195db055",
   "metadata": {},
   "outputs": [],
   "source": [
    "# Récupération dans les processus des connexions entre opérateurs\n",
    "\n",
    "#ListFile=glob2.glob(r\".\\rapidminer-studio-modular-master\\rapidminer-studio-core\\src\\main\\resources\\com\\rapidminer\\resources\\samples\\processes\\**/*.rmp\")\n",
    "ListFile=glob2.glob(r\".\\projects_openML\\**/*.xml\")\n",
    "dictGraph = {}\n",
    "\n",
    "for File in ListFile:\n",
    "    file1 = open(File, 'r')\n",
    "    body = file1.read()\n",
    "    startIndex=body.strip().find(\"from_op\")\n",
    "            \n",
    "    while (startIndex >= 0):\n",
    "        stringToEvaluate=body[startIndex:len(body)]\n",
    "        endIndex=findEndIndexXML(stringToEvaluate)\n",
    "        \n",
    "        from_op = findOpAndPort(body[startIndex:startIndex+endIndex-1], \"from_op\")\n",
    "        from_port = findOpAndPort(body[startIndex:startIndex+endIndex-1], \"from_port\")\n",
    "        to_op = findOpAndPort(body[startIndex:startIndex+endIndex-1], \"to_op\")\n",
    "        to_port = findOpAndPort(body[startIndex:startIndex+endIndex-1], \"to_port\")\n",
    "        \n",
    "        if (to_op != None):\n",
    "            if (from_op in dictGraph):\n",
    "                if (not (to_op in dictGraph[from_op])):\n",
    "                    dictGraph[from_op].append(to_op)\n",
    "            else:\n",
    "                dictGraph[from_op] = [to_op]\n",
    "            \n",
    "        body=body[startIndex+endIndex:]\n",
    "        startIndex=body.strip().find(\"from_op\")\n",
    "    file1.close()\n",
    "\n",
    "for i in dictGraph:\n",
    "    print(i + \" \" + str(dictGraph[i]))\n",
    "    print()"
   ]
  },
  {
   "cell_type": "code",
   "execution_count": null,
   "id": "5270501c",
   "metadata": {},
   "outputs": [],
   "source": []
  }
 ],
 "metadata": {
  "kernelspec": {
   "display_name": "Python 3",
   "language": "python",
   "name": "python3"
  },
  "language_info": {
   "codemirror_mode": {
    "name": "ipython",
    "version": 3
   },
   "file_extension": ".py",
   "mimetype": "text/x-python",
   "name": "python",
   "nbconvert_exporter": "python",
   "pygments_lexer": "ipython3",
   "version": "3.8.8"
  }
 },
 "nbformat": 4,
 "nbformat_minor": 5
}
