{
 "cells": [
  {
   "cell_type": "code",
   "execution_count": 10,
   "id": "3bdc414c",
   "metadata": {},
   "outputs": [],
   "source": [
    "import glob2"
   ]
  },
  {
   "cell_type": "code",
   "execution_count": 12,
   "id": "fe00677b",
   "metadata": {},
   "outputs": [
    {
     "name": "stdout",
     "output_type": "stream",
     "text": [
      "exampleSetInput.addPrecondition(new SimplePrecondition(exampleSetInput, getRequiredMetaData()));\n",
      "tableInput.addPrecondition(new SimplePrecondition(tableInput, getRequiredMetaData()));\n",
      "exampleSetInput.addPrecondition(new ParameterConditionedPrecondition(exampleSetInput, new AttributeSetPrecondition(\n",
      "exampleSetInput.addPrecondition(new ParameterConditionedPrecondition(exampleSetInput, new AttributeSetPrecondition(\n",
      "inPort.addPrecondition(new SimplePrecondition(inPort, new MetaData(desiredClass)));\n",
      "storeInput.addPrecondition(new SimplePrecondition(storeInput, new MetaData(IOObject.class)));\n",
      "storeInput.addPrecondition(new Precondition() {\n",
      "modelInput.addPrecondition(\n",
      "initialDataInput.addPrecondition(new SimplePrecondition(initialDataInput, new ExampleSetMetaData()));\n",
      "exampleSetInput.addPrecondition(new ExampleSetPrecondition(exampleSetInput, -1, Attributes.LABEL_NAME,\n",
      "exampleSetInput.addPrecondition(new SimplePrecondition(exampleSetInput, new ExampleSetMetaData()));\n",
      ".addPrecondition(new SimplePrecondition(subprocessPerformanceInput, new MetaData(PerformanceVector.class)));\n",
      "inputPort.addPrecondition(new SimplePrecondition(inputPort, new MetaData(savedClass)));\n",
      "tableInput.addPrecondition(new TableLearnerPrecondition(this, tableInput));\n",
      "exampleSetInput.addPrecondition(new LearnerPrecondition(this, exampleSetInput));\n",
      "exampleSetInput.addPrecondition(new SimplePrecondition(exampleSetInput, new ExampleSetMetaData()));\n",
      "exampleSetInput.addPrecondition(new ExampleSetPrecondition(exampleSetInput, Ontology.VALUE_TYPE,\n",
      "performanceInnerSink.addPrecondition(new SimplePrecondition(performanceInnerSink, new MetaData(\n",
      "exampleSetInnerSink.addPrecondition(new SimplePrecondition(exampleSetInnerSink, new ExampleSetMetaData(), false));\n",
      "getPerformanceInnerSink().addPrecondition(\n",
      "exampleSetInput.addPrecondition(new ExampleSetPrecondition(exampleSetInput, new String[0], Ontology.VALUE_TYPE,\n",
      ".addPrecondition(new SimplePrecondition(performanceConditionInput, new MetaData(PerformanceVector.class)) {\n",
      ".addPrecondition(new SimplePrecondition(exampleSetConditionInput, new MetaData(ExampleSet.class)) {\n",
      "exampleSetInput.addPrecondition(new AttributeParameterPrecondition(exampleSetInput, this, PARAMETER_ATTRIBUTE,\n",
      "exampleSetInput.addPrecondition(new AttributeSetPrecondition(exampleSetInput, new AttributeNameProvider() {\n",
      "exampleSetInput.addPrecondition(new CapabilityPrecondition(this, exampleSetInput));\n",
      "fileInputPort.addPrecondition(new SimplePrecondition(fileInputPort, new MetaData(FileObject.class)) {\n",
      "fileInputPort.addPrecondition(new SimplePrecondition(fileInputPort, new MetaData(FileObject.class)) {\n",
      "// exampleSetInput.addPrecondition(new ExampleSetPrecondition(exampleSetInput,\n",
      "exampleSetInput.addPrecondition(new CapabilityPrecondition(this, exampleSetInput));\n",
      "exampleSetInput.addPrecondition(new SimplePrecondition(exampleSetInput, new ExampleSetMetaData()) {\n",
      "performanceInput.addPrecondition(new SimplePrecondition(performanceInput, new MetaData(PerformanceVector.class),\n",
      "getExampleSetInputPort().addPrecondition(\n",
      "getExampleSetInputPort().addPrecondition(\n",
      "void addPrecondition(Precondition precondition);\n",
      "port.addPrecondition(new CollectionPrecondition(precondition));\n",
      "in.addPrecondition(new CollectionPrecondition(sp));\n",
      "in.addPrecondition(sp);\n",
      "getExampleSetInputPort().addPrecondition(\n",
      "getExampleSetInputPort().addPrecondition(\n",
      "getExampleSetInputPort().addPrecondition(\n",
      "exampleSetInput.addPrecondition(new ExampleSetPrecondition(exampleSetInput, Ontology.VALUE_TYPE,\n",
      "getExampleSetInputPort().addPrecondition(new ExampleSetPrecondition(getExampleSetInputPort(), Ontology.VALUE_TYPE,\n",
      "exampleSetInput.addPrecondition(new ExampleSetPrecondition(exampleSetInput, Ontology.VALUE_TYPE,\n",
      "exampleSetInput.addPrecondition(new ExampleSetPrecondition(exampleSetInput, Ontology.VALUE_TYPE,\n",
      "exampleSetInput.addPrecondition(new AttributeSetPrecondition(exampleSetInput, AttributeSetPrecondition\n",
      "getTableInputPort().addPrecondition(new Precondition() {\n",
      "getExampleSetInputPort().addPrecondition(attributeSelector.makePrecondition());\n",
      "exampleSetInput.addPrecondition(new DistanceMeasurePrecondition(exampleSetInput, this));\n",
      "exampleSetInput.addPrecondition(new DistanceMeasurePrecondition(exampleSetInput, this));\n",
      "trainingSetInput.addPrecondition(getCapabilityPrecondition());\n",
      "inputPort.addPrecondition(new SimplePrecondition(inputPort, new MetaData(PerformanceVector.class)));\n",
      "exampleSetInput.addPrecondition(getCapabilityPrecondition());\n",
      "exampleSetInput.addPrecondition(new AttributeSetPrecondition(exampleSetInput, AttributeSetPrecondition\n",
      "exampleSetInput.addPrecondition(new ExampleSetSizePrecondition(exampleSetInput, this, PARAMETER_EXAMPLE_INDEX));\n",
      ".addPrecondition(new ExampleSetPrecondition(exampleSetInput, Attributes.LABEL_NAME, Ontology.NOMINAL));\n",
      ".addPrecondition(new ExampleSetPrecondition(exampleSetInput, Attributes.LABEL_NAME, Ontology.NOMINAL));\n",
      "modelInput.addPrecondition(new SimplePrecondition(modelInput, new MetaData(Model.class)) {\n",
      "exampleSetInput.addPrecondition(new CapabilityPrecondition(this, exampleSetInput));\n",
      ".addPrecondition(new ExampleSetPrecondition(exampleSetInput, Attributes.LABEL_NAME, Ontology.NOMINAL) {\n",
      "modelInput.addPrecondition(new SimplePrecondition(modelInput, new MetaData(Model.class)) {\n",
      "exampleSetInput.addPrecondition(new SimplePrecondition(exampleSetInput, new ExampleSetMetaData()));\n",
      "exampleSetInput.addPrecondition(new DistanceMeasurePrecondition(exampleSetInput, this));\n",
      "exampleSetInput.addPrecondition(new CapabilityPrecondition(this, exampleSetInput));\n",
      "exampleSetInput.addPrecondition(new ExampleSetPrecondition(exampleSetInput));\n",
      "exampleSetInput.addPrecondition(new AttributeSetPrecondition(exampleSetInput, AttributeSetPrecondition\n",
      ".addPrecondition(new SimplePrecondition(getExampleSetInputPort(), new ExampleSetMetaData(), false) {\n",
      "exampleInput.addPrecondition(new DistanceMeasurePrecondition(exampleInput, this));\n",
      "exampleInput.addPrecondition(new CapabilityPrecondition(this, exampleInput));\n",
      "exampleSetInput.addPrecondition(new SimplePrecondition(exampleSetInput, new ExampleSetMetaData()));\n",
      "modelInnerSink.addPrecondition(new SimplePrecondition(modelInnerSink, new MetaData(ClusterModel.class)));\n",
      "tableInput.addPrecondition(new SimplePrecondition(tableInput, new ExampleSetMetaData()));\n",
      "attributeWeightsInput.addPrecondition(new SimplePrecondition(attributeWeightsInput, new MetaData(\n",
      "exampleSetInput.addPrecondition(new CapabilityPrecondition(this, exampleSetInput));\n",
      "exampleSetInput.addPrecondition(new ExampleSetPrecondition(exampleSetInput, Ontology.NUMERICAL) {\n",
      "exampleSetInput.addPrecondition(new ExampleSetPrecondition(exampleSetInput, Ontology.NUMERICAL));\n",
      "exampleSetInput.addPrecondition(new ExampleSetPrecondition(exampleSetInput, Ontology.NUMERICAL));\n",
      "exampleSetInput.addPrecondition(new ExampleSetPrecondition(exampleSetInput, Ontology.NUMERICAL));\n",
      "exampleSetInput.addPrecondition(new ExampleSetPrecondition(exampleSetInput, Ontology.NUMERICAL));\n",
      "exampleSetInput.addPrecondition(new ExampleSetPrecondition(exampleSetInput, Ontology.NUMERICAL));\n",
      "exampleSetInput.addPrecondition(new CapabilityPrecondition(this, exampleSetInput));\n",
      "attributeWeightsInput.addPrecondition(new SimplePrecondition(attributeWeightsInput, new MetaData(\n",
      "forestInput.addPrecondition(new SimplePrecondition(forestInput, new RandomForestModelMetaData(), true));\n",
      "weightInput.addPrecondition(new SimplePrecondition(weightInput, new MetaData(AttributeWeights.class), false));\n",
      "tableInput.addPrecondition(new TableCapabilityPrecondition(this, tableInput));\n",
      "exampleIn.addPrecondition(new ParameterConditionedPrecondition(exampleIn, new AttributeSetPrecondition(exampleIn,\n",
      "getExampleSetInputPort().addPrecondition(new DistanceMeasurePrecondition(getExampleSetInputPort(), this));\n",
      "exampleSetInput.addPrecondition(new LearnerPrecondition(this, exampleSetInput));\n",
      "innerModelSink.addPrecondition(new SimplePrecondition(innerModelSink, new PredictionModelMetaData(\n",
      "modelInput.addPrecondition(new SimplePrecondition(modelInput, new PredictionModelMetaData(PredictionModel.class,\n",
      "innerModelSink.addPrecondition(new SimplePrecondition(innerModelSink, new PredictionModelMetaData(TreeModel.class)));\n",
      ".addPrecondition(new ParameterConditionedPrecondition(exampleInput, numericalCondition, this,\n",
      ".addPrecondition(new ParameterConditionedPrecondition(exampleInput, nominalCondition, this,\n",
      ".addPrecondition(new ParameterConditionedPrecondition(exampleInput, nominalCondition, this,\n",
      ".addPrecondition(new ParameterConditionedPrecondition(exampleInput, nominalCondition, this,\n",
      ".addPrecondition(new ParameterConditionedPrecondition(exampleInput, nominalCondition, this,\n",
      "exampleSetInput.addPrecondition(new LearnerPrecondition(this, exampleSetInput));\n",
      "weightsInnerSink.addPrecondition(new SimplePrecondition(weightsInnerSink, new MetaData(AttributeWeights.class),\n",
      "exampleSetInput.addPrecondition(new ExampleSetPrecondition(exampleSetInput, Ontology.BINOMINAL));\n",
      "exampleSetInput.addPrecondition(new SimplePrecondition(exampleSetInput, new ExampleSetMetaData(), true) {\n",
      ".addPrecondition(new AttributeParameterPrecondition(exampleSetInput, this, PARAMETER_CUSTOMER_ATTRIBUTE));\n",
      "exampleSetInput.addPrecondition(\n",
      "getExampleSetInputPort().addPrecondition(new SimplePrecondition(getExampleSetInputPort(), null, false) {\n",
      "fileInputPort.addPrecondition(precondition);\n",
      "fileInputPort.addPrecondition(new SimplePrecondition(fileInputPort, new MetaData(FileObject.class)) {\n",
      "fileInputPort.addPrecondition(new SimplePrecondition(fileInputPort, new MetaData(FileObject.class)) {\n",
      "exampleSetInput.addPrecondition(new ExampleSetPrecondition(exampleSetInput, Ontology.ATTRIBUTE_VALUE,\n",
      "exampleSetInput.addPrecondition(new ExampleSetPrecondition(exampleSetInput, Ontology.ATTRIBUTE_VALUE,\n",
      "exampleSetInput.addPrecondition(new ExampleSetPrecondition(exampleSetInput, Ontology.ATTRIBUTE_VALUE,\n",
      "public void addPrecondition(Precondition precondition) {\n",
      "in.addPrecondition(new SimplePrecondition(in, metaData));\n",
      "getExampleSetInputPort().addPrecondition(\n",
      "getExampleSetInputPort().addPrecondition(\n",
      "getExampleSetInputPort().addPrecondition(\n",
      "getExampleSetInputPort().addPrecondition(\n",
      "getExampleSetInputPort().addPrecondition(\n",
      "getExampleSetInputPort().addPrecondition(\n",
      "getExampleSetInputPort().addPrecondition(\n",
      "getExampleSetInputPort().addPrecondition(\n",
      "getExampleSetInputPort().addPrecondition(\n",
      "getExampleSetInputPort().addPrecondition(\n",
      "getExampleSetInputPort().addPrecondition(\n",
      "getExampleSetInputPort().addPrecondition(\n",
      "getExampleSetInputPort().addPrecondition(\n",
      "dictionaryInput.addPrecondition(new ExampleSetPrecondition(dictionaryInput) {\n",
      "getExampleSetInputPort().addPrecondition(\n",
      "getExampleSetInputPort().addPrecondition(\n",
      "getExampleSetInputPort().addPrecondition(attributeSelector.makePrecondition());\n",
      "getExampleSetInputPort().addPrecondition(\n",
      "getExampleSetInputPort().addPrecondition(\n",
      "getExampleSetInputPort().addPrecondition(\n",
      "getExampleSetInputPort().addPrecondition(\n",
      "getExampleSetInputPort().addPrecondition(new AttributeSetPrecondition(getExampleSetInputPort(),\n",
      "getLeftInput().addPrecondition(new ExampleSetPrecondition(getLeftInput()));\n",
      "getRightInput().addPrecondition(new ExampleSetPrecondition(getRightInput()));\n",
      "secondInput.addPrecondition(new ExampleSetPrecondition(secondInput, Ontology.ATTRIBUTE_VALUE, Attributes.ID_NAME));\n",
      "((InputPort) getInputPort().getPorts().getPortByIndex(0)).addPrecondition(new ExampleSetPrecondition(\n",
      "getLeftInput().addPrecondition(new ParameterConditionedPrecondition(getLeftInput(),\n",
      "getLeftInput().addPrecondition(new ParameterConditionedPrecondition(getLeftInput(),\n",
      "getRightInput().addPrecondition(new ParameterConditionedPrecondition(getRightInput(),\n",
      "getRightInput().addPrecondition(new ParameterConditionedPrecondition(getRightInput(),\n",
      "subtrahendInput.addPrecondition(new ExampleSetPrecondition(subtrahendInput, Ontology.ATTRIBUTE_VALUE,\n",
      "getExampleSetInputPort().addPrecondition(\n",
      "// exampleSet1Input.addPrecondition(new ExampleSetPrecondition(exampleSet1Input, -1,\n",
      "// exampleSet2Input.addPrecondition(new ExampleSetPrecondition(exampleSet2Input, -1,\n",
      "getExampleSetInputPort().addPrecondition(new ParameterConditionedPrecondition(getExampleSetInputPort(),\n",
      "getExampleSetInputPort().addPrecondition(new ExampleSetPrecondition(getExampleSetInputPort()));\n",
      ".addPrecondition(new AttributeSetPrecondition(getExampleSetInputPort(), AttributeSetPrecondition\n",
      "exampleSetInput.addPrecondition(new AttributeSetPrecondition(exampleSetInput, AttributeSetPrecondition\n",
      "exampleSetInput.addPrecondition(new AttributeSetPrecondition(exampleSetInput, AttributeSetPrecondition\n",
      "getExampleSetInputPort().addPrecondition(new ExampleSetPrecondition(getExampleSetInputPort(), Ontology.ATTRIBUTE_VALUE, Attributes.LABEL_NAME));\n",
      "referenceDataPort.addPrecondition(new SimplePrecondition(referenceDataPort, new MetaData(ExampleSet.class), false));\n",
      "annotationsInputPort.addPrecondition(new AttributeSetPrecondition(annotationsInputPort, AttributeSetPrecondition\n",
      "annotationsInputPort.addPrecondition(new AttributeSetPrecondition(annotationsInputPort, AttributeSetPrecondition\n",
      "performanceInput.addPrecondition(new SimplePrecondition(performanceInput, new MetaData(PerformanceVector.class),\n"
     ]
    },
    {
     "name": "stdout",
     "output_type": "stream",
     "text": [
      "exampleSetInput.addPrecondition(new ExampleSetPrecondition(exampleSetInput, Ontology.ATTRIBUTE_VALUE,\n",
      "performanceInput.addPrecondition(new SimplePrecondition(performanceInput, new MetaData(PerformanceVector.class),\n",
      "exampleSetInput.addPrecondition(new ExampleSetPrecondition(exampleSetInput) {\n",
      "exampleSetInput.addPrecondition(new ExampleSetPrecondition(exampleSetInput) {\n",
      "exampleSetInput.addPrecondition(new AttributeSetPrecondition(exampleSetInput, AttributeSetPrecondition\n",
      "exampleSetInput.addPrecondition(new AttributeSetPrecondition(exampleSetInput, AttributeSetPrecondition\n",
      "// exampleSetInput.addPrecondition(new ExampleSetPrecondition(exampleSetInput,\n",
      "exampleSetInput.addPrecondition(new AttributeSetPrecondition(exampleSetInput, AttributeSetPrecondition\n"
     ]
    }
   ],
   "source": [
    "# Récupération dans les opérateurs des préconditions\n",
    "\n",
    "ListFile=glob2.glob(r\".\\rapidminer-studio-modular-master\\rapidminer-studio-core\\src\\main\\java\\com\\rapidminer\\operator\\**/*.java\")\n",
    "for File in ListFile:\n",
    "    file1 = open(File, 'r')\n",
    "    count = 0\n",
    "    while True:\n",
    "        count += 1\n",
    "        line = file1.readline()\n",
    "        if (line.strip().find(\"addPrecondition\") >= 0):\n",
    "            print(line.strip())\n",
    "        if not line:\n",
    "            break\n",
    "    file1.close()"
   ]
  },
  {
   "cell_type": "code",
   "execution_count": 13,
   "id": "ebdc2c41",
   "metadata": {},
   "outputs": [
    {
     "name": "stdout",
     "output_type": "stream",
     "text": [
      "126\n"
     ]
    }
   ],
   "source": [
    "print(count)"
   ]
  },
  {
   "cell_type": "code",
   "execution_count": 22,
   "id": "d942ad26",
   "metadata": {},
   "outputs": [
    {
     "ename": "IndexError",
     "evalue": "string index out of range",
     "output_type": "error",
     "traceback": [
      "\u001b[1;31m---------------------------------------------------------------------------\u001b[0m",
      "\u001b[1;31mIndexError\u001b[0m                                Traceback (most recent call last)",
      "\u001b[1;32m<ipython-input-22-85878dbbc12a>\u001b[0m in \u001b[0;36m<module>\u001b[1;34m\u001b[0m\n\u001b[0;32m      8\u001b[0m     \u001b[1;32mwhile\u001b[0m \u001b[1;32mTrue\u001b[0m\u001b[1;33m:\u001b[0m\u001b[1;33m\u001b[0m\u001b[1;33m\u001b[0m\u001b[0m\n\u001b[0;32m      9\u001b[0m         \u001b[0mcount\u001b[0m \u001b[1;33m+=\u001b[0m \u001b[1;36m1\u001b[0m\u001b[1;33m\u001b[0m\u001b[1;33m\u001b[0m\u001b[0m\n\u001b[1;32m---> 10\u001b[1;33m         \u001b[0mprint\u001b[0m\u001b[1;33m(\u001b[0m\u001b[0mFile\u001b[0m\u001b[1;33m[\u001b[0m\u001b[1;36m20\u001b[0m\u001b[1;33m]\u001b[0m\u001b[1;33m[\u001b[0m\u001b[1;36m21\u001b[0m\u001b[1;33m]\u001b[0m\u001b[1;33m)\u001b[0m\u001b[1;33m\u001b[0m\u001b[1;33m\u001b[0m\u001b[0m\n\u001b[0m\u001b[0;32m     11\u001b[0m         \u001b[0mline\u001b[0m \u001b[1;33m=\u001b[0m \u001b[0mfile1\u001b[0m\u001b[1;33m.\u001b[0m\u001b[0mreadline\u001b[0m\u001b[1;33m(\u001b[0m\u001b[1;33m)\u001b[0m\u001b[1;33m\u001b[0m\u001b[1;33m\u001b[0m\u001b[0m\n\u001b[0;32m     12\u001b[0m         \u001b[1;32mif\u001b[0m \u001b[1;33m(\u001b[0m\u001b[0mline\u001b[0m\u001b[1;33m.\u001b[0m\u001b[0mstrip\u001b[0m\u001b[1;33m(\u001b[0m\u001b[1;33m)\u001b[0m\u001b[1;33m.\u001b[0m\u001b[0mfind\u001b[0m\u001b[1;33m(\u001b[0m\u001b[1;34m\"from_op\"\u001b[0m\u001b[1;33m)\u001b[0m \u001b[1;33m>=\u001b[0m \u001b[1;36m0\u001b[0m\u001b[1;33m)\u001b[0m\u001b[1;33m:\u001b[0m\u001b[1;33m\u001b[0m\u001b[1;33m\u001b[0m\u001b[0m\n",
      "\u001b[1;31mIndexError\u001b[0m: string index out of range"
     ]
    }
   ],
   "source": [
    "# Récupération dans les processus des connexions\n",
    "\n",
    "ListFile=glob2.glob(r\".\\rapidminer-studio-modular-master\\rapidminer-studio-core\\src\\main\\resources\\com\\rapidminer\\resources\\samples\\processes\\**/*.rmp\")\n",
    "\n",
    "for File in ListFile:\n",
    "    file1 = open(File, 'r')\n",
    "    count = 0\n",
    "    while True:\n",
    "        count += 1\n",
    "        line = file1.readline()\n",
    "        if (line.strip().find(\"from_op\") >= 0):\n",
    "            print(line.strip())\n",
    "        if not line:\n",
    "            break\n",
    "    file1.close()"
   ]
  },
  {
   "cell_type": "code",
   "execution_count": 15,
   "id": "89d78ccc",
   "metadata": {},
   "outputs": [
    {
     "name": "stdout",
     "output_type": "stream",
     "text": [
      "71\n"
     ]
    }
   ],
   "source": [
    "print(count)"
   ]
  },
  {
   "cell_type": "code",
   "execution_count": null,
   "id": "5270501c",
   "metadata": {},
   "outputs": [],
   "source": []
  }
 ],
 "metadata": {
  "kernelspec": {
   "display_name": "Python 3",
   "language": "python",
   "name": "python3"
  },
  "language_info": {
   "codemirror_mode": {
    "name": "ipython",
    "version": 3
   },
   "file_extension": ".py",
   "mimetype": "text/x-python",
   "name": "python",
   "nbconvert_exporter": "python",
   "pygments_lexer": "ipython3",
   "version": "3.8.8"
  }
 },
 "nbformat": 4,
 "nbformat_minor": 5
}
