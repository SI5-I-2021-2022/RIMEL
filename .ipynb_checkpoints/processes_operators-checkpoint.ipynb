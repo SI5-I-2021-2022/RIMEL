{
 "cells": [
  {
   "cell_type": "code",
   "execution_count": 1,
   "id": "3bdc414c",
   "metadata": {},
   "outputs": [],
   "source": [
    "import glob2"
   ]
  },
  {
   "cell_type": "code",
   "execution_count": 2,
   "id": "8a7c5d31",
   "metadata": {},
   "outputs": [],
   "source": [
    "def findEndIndex(string):\n",
    "    count=0\n",
    "    for i in range(len(string)):\n",
    "        if ((string[i]=='{') or (string[i]=='(')):\n",
    "            count=count+1\n",
    "        if ((string[i]=='}') or (string[i]==')')):\n",
    "            count=count-1\n",
    "        if (count==0 and string[i]==\";\"):\n",
    "            return i\n",
    "    return None"
   ]
  },
  {
   "cell_type": "code",
   "execution_count": 3,
   "id": "4d9fed74",
   "metadata": {},
   "outputs": [],
   "source": [
    "def findNextParenthesis(string):\n",
    "    count=0\n",
    "    for i in range(len(string)):\n",
    "        if (string[i]=='('):\n",
    "            return i\n",
    "    return None  "
   ]
  },
  {
   "cell_type": "code",
   "execution_count": 4,
   "id": "c1f34b37",
   "metadata": {},
   "outputs": [],
   "source": [
    "def findEndIndexXML(string):\n",
    "    for i in range(len(string)):\n",
    "        if (string[i]==\">\"):\n",
    "            return i\n",
    "    return None"
   ]
  },
  {
   "cell_type": "code",
   "execution_count": 5,
   "id": "11938e1d",
   "metadata": {},
   "outputs": [],
   "source": [
    "def findEndIndexLine(string):\n",
    "    for i in range(len(string)):\n",
    "        if (string[i]==\"\\\"\"):\n",
    "            return i\n",
    "    return None"
   ]
  },
  {
   "cell_type": "code",
   "execution_count": null,
   "id": "fe00677b",
   "metadata": {},
   "outputs": [],
   "source": [
    "# Récupération dans les opérateurs des préconditions\n",
    "\n",
    "ListFile=glob2.glob(r\".\\rapidminer-studio-modular-master\\rapidminer-studio-core\\src\\main\\java\\com\\rapidminer\\operator\\**/*.java\")\n",
    "\n",
    "def findPrecondition(ListFile):\n",
    "    count=0\n",
    "\n",
    "    for File in ListFile:\n",
    "        file1 = open(File, 'r')\n",
    "        body = file1.read()\n",
    "        startIndex=body.strip().find(\".addPrecondition\")\n",
    "        \n",
    "        if (startIndex>=0):\n",
    "            print(File)\n",
    "            \n",
    "        while (startIndex >= 0):\n",
    "            stringToEvaluate=body[startIndex:len(body)]\n",
    "            endIndex=findEndIndex(stringToEvaluate)\n",
    "            \n",
    "            print(body[startIndex:startIndex+endIndex]+\"\\n\\n\")\n",
    "            count=count+1\n",
    "            body=body[startIndex+endIndex:]\n",
    "            startIndex=body.strip().find(\".addPrecondition\")\n",
    "        file1.close()\n",
    "        \n",
    "    print(count)"
   ]
  },
  {
   "cell_type": "code",
   "execution_count": null,
   "id": "1684bd6d",
   "metadata": {},
   "outputs": [],
   "source": [
    "def preconditionDict(ListFile):\n",
    "    count=0\n",
    "    dictList = {}\n",
    "    for File in ListFile:\n",
    "        file1 = open(File, 'r')\n",
    "        body = file1.read()\n",
    "        startIndex=body.strip().find(\".addPrecondition\")\n",
    "        \n",
    "            \n",
    "        while (startIndex >= 0):\n",
    "            override= \"Not Overrode\"\n",
    "            stringToEvaluate=body[startIndex:len(body)]\n",
    "            startNamePrecondition = stringToEvaluate.strip().find(\"new \")\n",
    "            if startNamePrecondition<50:\n",
    "                startIndex+=startNamePrecondition+4\n",
    "                stringToEvaluate=body[startIndex:len(body)]\n",
    "                endIndex=findNextParenthesis(stringToEvaluate)\n",
    "            else:\n",
    "                endIndex = startIndex+51\n",
    "\n",
    "            if(endIndex-startIndex<50):\n",
    "                stringToEvaluate=body[startIndex-(startNamePrecondition+4):len(body)]\n",
    "                endPreconditionIndex=findEndIndex(stringToEvaluate)\n",
    "                if body[startIndex-(startNamePrecondition+4):startIndex+endPreconditionIndex].strip().find(\"@Override\")>0:\n",
    "                    override=\"Overrode\"\n",
    "                if File in dictList:\n",
    "                    dictList[File].append([body[startIndex:startIndex+endIndex],override])\n",
    "                else :\n",
    "                    dictList[File]=[[body[startIndex:startIndex+endIndex],override]]\n",
    "            count=count+1\n",
    "            if(endIndex != None):\n",
    "                body=body[startIndex+endIndex:]\n",
    "            else:\n",
    "                body=body[startIndex:]\n",
    "            startIndex=body.strip().find(\".addPrecondition\")\n",
    "        file1.close()\n",
    " \n",
    "    print(dictList)"
   ]
  },
  {
   "cell_type": "code",
   "execution_count": null,
   "id": "662b3b04",
   "metadata": {},
   "outputs": [],
   "source": [
    "preconditionDict(ListFile)"
   ]
  },
  {
   "cell_type": "code",
   "execution_count": null,
   "id": "9a3f51a7",
   "metadata": {},
   "outputs": [],
   "source": [
    "def findOpInLine(string):\n",
    "    endIndex=findEndIndexLine(string)\n",
    "    print(string[:endIndex])"
   ]
  },
  {
   "cell_type": "code",
   "execution_count": 6,
   "id": "7dc0957d",
   "metadata": {},
   "outputs": [],
   "source": [
    "def findOpAndPort(string, string2):\n",
    "    startIndex = string.find(string2)+len(string2)+2\n",
    "    if (string.find(string2) >= 0):\n",
    "        endIndex = findEndIndexLine(string[startIndex:])\n",
    "        return string[startIndex:startIndex+endIndex]"
   ]
  },
  {
   "cell_type": "code",
   "execution_count": 9,
   "id": "d942ad26",
   "metadata": {},
   "outputs": [
    {
     "name": "stdout",
     "output_type": "stream",
     "text": [
      "Download ['Execute']\n",
      "\n",
      "Execute ['Upload']\n",
      "\n"
     ]
    }
   ],
   "source": [
    "# Récupération dans les processus des connexions\n",
    "\n",
    "#ListFile=glob2.glob(r\".\\rapidminer-studio-modular-master\\rapidminer-studio-core\\src\\main\\resources\\com\\rapidminer\\resources\\samples\\processes\\**/*.rmp\")\n",
    "ListFile=glob2.glob(r\".\\projects_openML\\**/*.xml\")\n",
    "dictGraph = {}\n",
    "\n",
    "for File in ListFile:\n",
    "    file1 = open(File, 'r')\n",
    "    body = file1.read()\n",
    "    startIndex=body.strip().find(\"from_op\")\n",
    "        \n",
    "    #if (startIndex>=0):\n",
    "        #print(File)\n",
    "            \n",
    "    while (startIndex >= 0):\n",
    "        stringToEvaluate=body[startIndex:len(body)]\n",
    "        endIndex=findEndIndexXML(stringToEvaluate)\n",
    "        #print(body[startIndex:startIndex+endIndex-1]+\"\\n\\n\")\n",
    "        \n",
    "        from_op = findOpAndPort(body[startIndex:startIndex+endIndex-1], \"from_op\")\n",
    "        from_port = findOpAndPort(body[startIndex:startIndex+endIndex-1], \"from_port\")\n",
    "        to_op = findOpAndPort(body[startIndex:startIndex+endIndex-1], \"to_op\")\n",
    "        to_port = findOpAndPort(body[startIndex:startIndex+endIndex-1], \"to_port\")\n",
    "        \n",
    "        if (to_op != None):\n",
    "            if (from_op in dictGraph):\n",
    "                if (not (to_op in dictGraph[from_op])):\n",
    "                    dictGraph[from_op].append(to_op)\n",
    "            else:\n",
    "                dictGraph[from_op] = [to_op]\n",
    "            \n",
    "        body=body[startIndex+endIndex:]\n",
    "        startIndex=body.strip().find(\"from_op\")\n",
    "    file1.close()\n",
    "\n",
    "for i in dictGraph:\n",
    "    print(i + \" \" + str(dictGraph[i]))\n",
    "    print()"
   ]
  },
  {
   "cell_type": "code",
   "execution_count": null,
   "id": "89d78ccc",
   "metadata": {},
   "outputs": [],
   "source": [
    "print(count)"
   ]
  },
  {
   "cell_type": "code",
   "execution_count": null,
   "id": "5270501c",
   "metadata": {},
   "outputs": [],
   "source": []
  }
 ],
 "metadata": {
  "kernelspec": {
   "display_name": "Python 3",
   "language": "python",
   "name": "python3"
  },
  "language_info": {
   "codemirror_mode": {
    "name": "ipython",
    "version": 3
   },
   "file_extension": ".py",
   "mimetype": "text/x-python",
   "name": "python",
   "nbconvert_exporter": "python",
   "pygments_lexer": "ipython3",
   "version": "3.8.8"
  }
 },
 "nbformat": 4,
 "nbformat_minor": 5
}
